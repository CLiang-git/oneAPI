{
 "cells": [
  {
   "cell_type": "markdown",
   "id": "625c0bab",
   "metadata": {},
   "source": [
    "# Polynomial Regression\n",
    "\n",
    "This is a simple polynomial regression example, and we use oneAPI to speed it up.\n",
    "\n",
    "In this sample, we will work around the data file `data.txt`."
   ]
  },
  {
   "cell_type": "markdown",
   "id": "3dbc5db6",
   "metadata": {},
   "source": [
    "## Importing data\n",
    "First we need to import all the required packages, and import Intel(R) Extension for Scikit-learn*."
   ]
  },
  {
   "cell_type": "code",
   "execution_count": 33,
   "id": "fb174aa0",
   "metadata": {},
   "outputs": [
    {
     "name": "stderr",
     "output_type": "stream",
     "text": [
      "Intel(R) Extension for Scikit-learn* enabled (https://github.com/intel/scikit-learn-intelex)\n"
     ]
    }
   ],
   "source": [
    "#Intel(R) Extension for Scikit-learn dynamically patches scikit-learn estimators to use oneDAL as the underlying solver\n",
    "from sklearnex import patch_sklearn\n",
    "patch_sklearn()\n",
    "\n",
    "import numpy as np\n",
    "import sklearn.linear_model as lm\n",
    "import matplotlib.pyplot as mp\n",
    "import sklearn.metrics as sm\n",
    "import sklearn.preprocessing as sp\n",
    "import sklearn.pipeline as pl\n",
    "\n",
    "x ,y = np.loadtxt('data.txt',\n",
    "    delimiter=',', usecols=(0,1),\n",
    "    unpack=True)"
   ]
  },
  {
   "cell_type": "markdown",
   "id": "8261e633",
   "metadata": {},
   "source": [
    "## Preparing data\n",
    "Change x from a row vector to a column vector to make it conform to the training input format."
   ]
  },
  {
   "cell_type": "code",
   "execution_count": 34,
   "id": "a417e8cd",
   "metadata": {},
   "outputs": [],
   "source": [
    "# Change x to n rows and 1 column\n",
    "x = x.reshape(-1, 1)"
   ]
  },
  {
   "cell_type": "markdown",
   "id": "33ac610f",
   "metadata": {},
   "source": [
    "## Theoretical Analysis\n",
    "\n",
    "General form of polynomial in one variable:\n",
    "\n",
    "y = w<sub>0</sub> + w<sub>1</sub> x + w<sub>2</sub> x<sup>2</sup> + w<sub>3</sub> x<sup>3</sup> + … + w<sub>n</sub> x<sup>n</sup>\n",
    "\n",
    "Polynomial function of one variable can be regarded as a linear equation of many variables:\n",
    "\n",
    "y = w<sub>0</sub> + w<sub>1</sub> x<sub>1</sub> + w<sub>2</sub> x<sub>2</sub> + w<sub>3</sub> x<sub>3</sub> + … + w<sub>n</sub> x<sub>n</sub>\n",
    "\n",
    "Therefore, one-dimensional polynomial regression can be regarded as multiple linear regression, and a LinearRegression model can be used to train the model on the sample data."
   ]
  },
  {
   "cell_type": "markdown",
   "id": "68481b95",
   "metadata": {},
   "source": [
    "## Training model\n",
    "\n",
    "It is necessary to select and set an appropriate polynomial highest order term. If it is too high, overfitting will occur, and if it is too low, underfitting will occur. Here, 5 is taken as an example."
   ]
  },
  {
   "cell_type": "code",
   "execution_count": 35,
   "id": "4cc1f47f",
   "metadata": {},
   "outputs": [],
   "source": [
    "# Create a pipeline to merge steps\n",
    "model = pl.make_pipeline(\n",
    "    sp.PolynomialFeatures(5),\n",
    "    lm.LinearRegression()\n",
    ")\n",
    "model.fit(x, y)\n",
    "pred_y = model.predict(x)"
   ]
  },
  {
   "cell_type": "markdown",
   "id": "29428289",
   "metadata": {},
   "source": [
    "## Error Estimation\n",
    "\n",
    "We need to select some indicators to evaluate the error of the regression model."
   ]
  },
  {
   "cell_type": "code",
   "execution_count": 36,
   "id": "5b74b90c",
   "metadata": {},
   "outputs": [
    {
     "name": "stdout",
     "output_type": "stream",
     "text": [
      "0.5158603469906121\n",
      "0.3990443434557377\n",
      "0.4210308824645457\n",
      "0.7586565632605782\n"
     ]
    }
   ],
   "source": [
    "# Mean absolute value error   1/n∑|Predictive output-Real output|\n",
    "print(sm.mean_absolute_error(y, pred_y))\n",
    "\n",
    "# Mean squared error   sqrt(1/n∑(Predictive output-Real output)^2)\n",
    "print(sm.mean_squared_error(y, pred_y))\n",
    "\n",
    "# Median absolute value error   median(|Predictive output-Real output|)\n",
    "print(sm.median_absolute_error(y, pred_y))\n",
    "\n",
    "# r2 is a value of the score (0,1]. The higher the score, the smaller the error\n",
    "print(sm.r2_score(y, pred_y))"
   ]
  },
  {
   "cell_type": "markdown",
   "id": "2b174e3d",
   "metadata": {},
   "source": [
    "## Plotting curve\n",
    "\n",
    "Draw images to visually show the difference between the model and the data."
   ]
  },
  {
   "cell_type": "code",
   "execution_count": 37,
   "id": "43005640",
   "metadata": {},
   "outputs": [
    {
     "data": {
      "image/png": "[encoded data removed]",
      "text/plain": [
       "<Figure size 432x288 with 1 Axes>"
      ]
     },
     "metadata": {},
     "output_type": "display_data"
    }
   ],
   "source": [
    "# To draw a polynomial model curve, build 1000 points\n",
    "test_x = np.linspace(x.min(), x.max(), 1000)\n",
    "test_x = test_x.reshape(-1, 1)\n",
    "pred_test_y = model.predict(test_x)\n",
    "\n",
    "mp.figure('Polynomial Regression', facecolor='lightgray')\n",
    "mp.title('Polynomial Regression', fontsize=18)\n",
    "mp.xlabel('X', fontsize=16)\n",
    "mp.ylabel('Y', fontsize=16)\n",
    "mp.tick_params(labelsize=12)\n",
    "mp.grid(linestyle=':')\n",
    "mp.scatter(x, y, s=60, c='dodgerblue',label='Points')\n",
    "mp.plot(test_x, pred_test_y, c='orangered', linewidth=2, label='Regression Line')\n",
    "mp.legend()\n",
    "mp.show()"
   ]
  }
 ],
 "metadata": {
  "kernelspec": {
   "display_name": "Python 3 (ipykernel)",
   "language": "python",
   "name": "python3"
  },
  "language_info": {
   "codemirror_mode": {
    "name": "ipython",
    "version": 3
   },
   "file_extension": ".py",
   "mimetype": "text/x-python",
   "name": "python",
   "nbconvert_exporter": "python",
   "pygments_lexer": "ipython3",
   "version": "3.9.12"
  }
 },
 "nbformat": 4,
 "nbformat_minor": 5
}
